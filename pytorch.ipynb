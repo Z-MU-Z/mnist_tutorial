{
 "cells": [
  {
   "cell_type": "markdown",
   "metadata": {},
   "source": [
    "# Pytorch Tutorial"
   ]
  },
  {
   "cell_type": "markdown",
   "metadata": {},
   "source": [
    "Pytorch is a popular deep learning framework and it's easy to get started."
   ]
  },
  {
   "cell_type": "code",
   "execution_count": 1,
   "metadata": {
    "collapsed": true
   },
   "outputs": [],
   "source": [
    "import torch\n",
    "import torch.nn as nn\n",
    "import torch.utils.data as data\n",
    "import torchvision\n",
    "import torchvision.transforms as transforms\n",
    "from tqdm import tqdm\n",
    "import time\n",
    "\n",
    "BATCH_SIZE = 128\n",
    "NUM_EPOCHS = 10"
   ]
  },
  {
   "cell_type": "markdown",
   "metadata": {},
   "source": [
    "First, we read the mnist data, preprocess them and encapsulate them into dataloader form."
   ]
  },
  {
   "cell_type": "code",
   "execution_count": 2,
   "metadata": {
    "collapsed": true
   },
   "outputs": [],
   "source": [
    "# preprocessing\n",
    "normalize = transforms.Normalize(mean=[.5], std=[.5])\n",
    "transform = transforms.Compose([transforms.ToTensor(), normalize])\n",
    "\n",
    "# download and load the data\n",
    "train_dataset = torchvision.datasets.MNIST(root='./mnist/', train=True, transform=transform, download=True)\n",
    "test_dataset = torchvision.datasets.MNIST(root='./mnist/', train=False, transform=transform, download=False)\n",
    "\n",
    "# encapsulate them into dataloader form\n",
    "train_loader = data.DataLoader(train_dataset, batch_size=BATCH_SIZE, shuffle=True, drop_last=True)\n",
    "test_loader = data.DataLoader(test_dataset, batch_size=BATCH_SIZE, shuffle=False, drop_last=True)"
   ]
  },
  {
   "cell_type": "markdown",
   "metadata": {},
   "source": [
    "Then, we define the model, object function and optimizer that we use to classify."
   ]
  },
  {
   "cell_type": "code",
   "execution_count": 6,
   "metadata": {
    "collapsed": true
   },
   "outputs": [],
   "source": [
    "import torch.nn.functional as F\n",
    "import torch.optim as optim\n",
    "\n",
    "class SimpleNet(nn.Module):\n",
    "\n",
    "    def __init__(self):\n",
    "\n",
    "        super(SimpleNet, self).__init__()\n",
    "        #self.flag = flag\n",
    "\n",
    "\n",
    "\n",
    "        #self.layer_1 = nn.Linear(self.emb_dim, self.num_classes)\n",
    "        self.firstpart = nn.Sequential(\n",
    "          nn.Conv2d(1,10,5),\n",
    "          nn.ReLU(),\n",
    "          nn.MaxPool2d(2, 2),\n",
    "          nn.Conv2d(10, 20, 3),\n",
    "          nn.ReLU()\n",
    "        )\n",
    "        self.secondpart=nn.Sequential(\n",
    "          nn.Linear(2000, 500),\n",
    "          nn.ReLU(),\n",
    "          nn.Linear(500, 10)\n",
    "\n",
    "\n",
    "\n",
    "        )\n",
    "\n",
    "    def forward(self, x):\n",
    "                            # x shape os [batch_size, emb_dim]\n",
    "        out = self.firstpart(x) # shape is [batch_size , 512]\n",
    "        out=out.view(x.size(0), -1)\n",
    "        out=self.secondpart(out)\n",
    "        out = F.log_softmax(out, dim = 1)\n",
    "\n",
    "\n",
    "        return out\n",
    "\n",
    "\n",
    "\n",
    "\n",
    "    \n",
    "model =SimpleNet()\n",
    "\n",
    "# TODO:define loss function and optimiter\n",
    "criterion = nn.NLLLoss()\n",
    "optimizer = optim.Adam(model.parameters())"
   ]
  },
  {
   "cell_type": "markdown",
   "metadata": {},
   "source": [
    "Next, we can start to train and evaluate!"
   ]
  },
  {
   "cell_type": "code",
   "execution_count": 8,
   "metadata": {
    "collapsed": true,
    "scrolled": true
   },
   "outputs": [
    {
     "name": "stderr",
     "output_type": "stream",
     "text": [
      "100%|██████████| 468/468 [00:26<00:00, 17.70it/s]\n",
      "100%|██████████| 468/468 [00:27<00:00, 17.26it/s]\n",
      "100%|██████████| 468/468 [00:27<00:00, 17.22it/s]\n",
      "100%|██████████| 468/468 [00:26<00:00, 17.42it/s]\n",
      "100%|██████████| 468/468 [00:26<00:00, 17.37it/s]\n",
      "100%|██████████| 468/468 [00:26<00:00, 17.54it/s]\n",
      "100%|██████████| 468/468 [00:27<00:00, 17.17it/s]\n",
      "100%|██████████| 468/468 [00:28<00:00, 16.71it/s]\n",
      "100%|██████████| 468/468 [00:26<00:00, 17.41it/s]\n",
      "100%|██████████| 468/468 [00:27<00:00, 17.29it/s]\n"
     ]
    },
    {
     "name": "stdout",
     "output_type": "stream",
     "text": [
      "Training accuracy: 99.78%\n",
      "Testing accuracy: 98.80%\n"
     ]
    }
   ],
   "source": [
    "\n",
    "# train and evaluate\n",
    "for epoch in range(NUM_EPOCHS):\n",
    "    model.train()\n",
    "    for images, labels in tqdm(train_loader):\n",
    "        # TODO:forward + backward + optimize\n",
    "        optimizer.zero_grad()\n",
    "        output = model(images)\n",
    "        loss =criterion(output, labels)\n",
    "        loss.backward()\n",
    "        optimizer.step()\n",
    "    #print(epoch,  loss.item())\n",
    "        \n",
    "        \n",
    "    # evaluate\n",
    "    # TODO:calculate the accuracy using traning and testing dataset\n",
    "def test(model,test_loader):\n",
    "    model.eval()\n",
    "\n",
    "    truenum = 0\n",
    "    with torch.no_grad():\n",
    "        for images, labels in test_loader:\n",
    "            output = model(images)\n",
    "\n",
    "            pred = output.max(1, keepdim = True)[1]\n",
    "            truenum += pred.eq(labels.view_as(pred)).sum().item()\n",
    "\n",
    "    return( truenum / len(test_loader.dataset))\n",
    "\n",
    "\n",
    "test_accuracy = test(model, test_loader)\n",
    "train_accuracy =test(model, train_loader)\n",
    "print('Training accuracy: %0.2f%%' % (train_accuracy*100))\n",
    "print('Testing accuracy: %0.2f%%' % (test_accuracy*100))\n",
    "\n",
    "    \n",
    "    \n"
   ]
  },
  {
   "cell_type": "markdown",
   "metadata": {},
   "source": [
    "#### Q5:\n",
    "Please print the training and testing accuracy."
   ]
  }
 ],
 "metadata": {
  "kernelspec": {
   "display_name": "Python [default]",
   "language": "python",
   "name": "python3"
  },
  "language_info": {
   "codemirror_mode": {
    "name": "ipython",
    "version": 3
   },
   "file_extension": ".py",
   "mimetype": "text/x-python",
   "name": "python",
   "nbconvert_exporter": "python",
   "pygments_lexer": "ipython3",
   "version": "3.6.3"
  }
 },
 "nbformat": 4,
 "nbformat_minor": 2
}